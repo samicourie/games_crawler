{
 "cells": [
  {
   "cell_type": "code",
   "execution_count": 81,
   "metadata": {},
   "outputs": [],
   "source": [
    "import json\n",
    "with open('ultimate_games.json', 'r', encoding='utf-8') as file:\n",
    "    ultimate_games = json.load(file)\n",
    "with open('games_text.json', 'r', encoding='utf-8') as file:\n",
    "    games_text = json.load(file)"
   ]
  },
  {
   "cell_type": "code",
   "execution_count": null,
   "metadata": {},
   "outputs": [],
   "source": [
    "count = 0\n",
    "for game_title, game in ultimate_games.items():\n",
    "    if ('steam-success' not in game or not game['steam-success']) and \\\n",
    "        game['platform'] in ['PC', 'PC / Indie', 'PS4 / PS5', 'PS3']:\n",
    "        print(game_title, '#', game['platform'])\n",
    "        count += 1\n",
    "print(count)"
   ]
  },
  {
   "cell_type": "code",
   "execution_count": null,
   "metadata": {},
   "outputs": [],
   "source": [
    "count = 0\n",
    "for game_title, game in ultimate_games.items():\n",
    "    if 'wikipedia-success' in game and game['wikipedia-success']:\n",
    "        if game['wikipedia-plot'] == '' or game['wikipedia-plot'] == '#':\n",
    "            print(game_title)\n",
    "        count += 1"
   ]
  },
  {
   "cell_type": "code",
   "execution_count": 67,
   "metadata": {},
   "outputs": [
    {
     "name": "stdout",
     "output_type": "stream",
     "text": [
      "0 ['Kingdom Hearts HD 1.5 ReMIX', 'Kingdom Hearts HD 2.5 ReMIX']\n"
     ]
    }
   ],
   "source": [
    "duplicates_text = dict()\n",
    "for game_title, game in ultimate_games.items():\n",
    "    if 'steam-description' in game and len(game['steam-description']) > 1:\n",
    "        if game['steam-description'] in duplicates_text:\n",
    "            duplicates_text[game['steam-description']].append(game_title)\n",
    "        else:\n",
    "            duplicates_text[game['steam-description']] = [game_title]\n",
    "\n",
    "for ind, game in enumerate([v for v in duplicates_text.values() if len(v)>1]):\n",
    "    print(ind, game)"
   ]
  },
  {
   "cell_type": "code",
   "execution_count": null,
   "metadata": {},
   "outputs": [],
   "source": [
    "'''\n",
    "for game_title in ['Ultimate Ghosts N Goblins']:\n",
    "    ult_game = ultimate_games[game_title]\n",
    "    for key in ['steam-summary', 'steam-tags', 'steam-genres', 'steam-images', 'steam-description',\n",
    "                'steam-positive', 'steam-success', 'steam-release-date', 'steam-developers', 'steam-nb-users']:\n",
    "        if key in ult_game:\n",
    "            del ult_game[key]\n",
    "    if 'text-steam' in games_text[game_title]:\n",
    "        del games_text[game_title]['text-steam']\n",
    "'''\n",
    "ultimate_games['P.T.'], games_text['Ultimate Ghosts N Goblins']"
   ]
  },
  {
   "cell_type": "code",
   "execution_count": 73,
   "metadata": {},
   "outputs": [
    {
     "name": "stdout",
     "output_type": "stream",
     "text": [
      "0 ['Ace Attorney Investigations - Miles Edgeworth', 'Ace Attorney Investigations Collection']\n",
      "1 ['Apollo Justice - Ace Attorney', 'Apollo Justice: Ace Attorney Trilogy']\n",
      "2 ['Crisis Core - Final Fantasy VII', 'Final Fantasy VII - Crisis Core Reunion']\n",
      "3 ['Front Mission', 'FRONT MISSION 1st - Remake']\n",
      "4 ['Legacy of Kain - Blood Omen', 'Legacy of Kain - Blood Omen 2']\n",
      "5 ['Legacy Of Kain - Soul Reaver', 'Legacy of Kain - Soul Reaver 2']\n",
      "6 ['Legacy of Ys - Books I & II', 'Ys I & II Chronicles']\n",
      "7 ['Mystery Dungeon - Shiren the Wanderer', 'Mystery Dungeon Shiren The Wanderer 3']\n",
      "8 ['Mystical Ninja - Starring Goemon', 'Mystical Ninja 2 - Starring Goemon']\n",
      "9 ['Neighbors Back From Hell', 'Neighbors From Hell']\n",
      "10 ['New Super Mario Bros U Deluxe', 'New Super Mario Bros. U']\n",
      "11 ['Ninja Gaiden Sigma', 'Ninja Gaiden Sigma 2']\n",
      "12 ['P.T.', 'PT']\n",
      "13 ['Persona 2 - Innocent Sin', 'Shin Megami Tensei Persona 2 - Innocent Sin']\n",
      "14 ['Pokémon Mystery Dungeon - Explorers of Darkness', 'Pokémon Mystery Dungeon - Explorers of Sky']\n",
      "15 ['Shadow Tactics - Blades of the Shogun', \"Shadow Tactics: Blades of the Shogun - Aiko's Choice\"]\n",
      "16 ['Shin Megami Tensei - Nocturne', 'Shin Megami Tensei Persona 3']\n",
      "17 ['Shin Megami Tensei IV', 'Shin Megami Tensei Persona']\n",
      "18 ['Shin Megami Tensei V', 'Shin Megami Tensei V Vengeance']\n",
      "19 ['Sonic Adventure', 'Sonic Adventure DX']\n",
      "20 ['Sonic Adventure 2', 'Sonic Adventure 2 - Battle']\n",
      "21 ['Star Ocean - The Second Story', 'Star Ocean - The Second Story R']\n",
      "22 ['The Jackbox Party Pack 2', 'The Jackbox Party Pack 3', 'The Jackbox Party Pack 7']\n",
      "23 ['TY the Tasmanian Tiger', 'TY the Tasmanian Tiger 2', 'TY the Tasmanian Tiger 3']\n"
     ]
    }
   ],
   "source": [
    "duplicates_text = dict()\n",
    "for game_title, game in ultimate_games.items():\n",
    "    if 'wikipedia-summary' in game and len(game['wikipedia-summary']) > 1:\n",
    "        if game['wikipedia-summary'] in duplicates_text:\n",
    "            duplicates_text[game['wikipedia-summary']].append(game_title)\n",
    "        else:\n",
    "            duplicates_text[game['wikipedia-summary']] = [game_title]\n",
    "\n",
    "for ind, game in enumerate([v for v in duplicates_text.values() if len(v)>1]):\n",
    "    print(ind, game)"
   ]
  },
  {
   "cell_type": "code",
   "execution_count": 80,
   "metadata": {},
   "outputs": [
    {
     "name": "stdout",
     "output_type": "stream",
     "text": [
      "0 ['Apollo Justice: Ace Attorney Trilogy', 'Phoenix Wright Ace Attorney - Spirit of Justice']\n",
      "1 ['God of War', 'God of War 2018']\n",
      "2 ['P.T.', 'PT']\n",
      "3 ['Pokémon Mystery Dungeon - Explorers of Darkness', 'Pokémon Mystery Dungeon - Explorers of Sky']\n",
      "4 ['Sonic Adventure', 'Sonic Adventure DX']\n",
      "5 ['Spider Man The Movie', 'Spider-Man']\n",
      "6 ['Stikbold A Dodgeball Adventure', 'Stikbold!']\n"
     ]
    }
   ],
   "source": [
    "duplicates_text = dict()\n",
    "for game_title, game in ultimate_games.items():\n",
    "    if 'igdb-summary' in game and len(game['igdb-summary']) > 1:\n",
    "        if game['igdb-summary'] in duplicates_text:\n",
    "            duplicates_text[game['igdb-summary']].append(game_title)\n",
    "        else:\n",
    "            duplicates_text[game['igdb-summary']] = [game_title]\n",
    "\n",
    "for ind, game in enumerate([v for v in duplicates_text.values() if len(v)>1]):\n",
    "    print(ind, game)"
   ]
  },
  {
   "cell_type": "code",
   "execution_count": 74,
   "metadata": {},
   "outputs": [
    {
     "name": "stdout",
     "output_type": "stream",
     "text": [
      "0 ['P.T.', 'PT']\n"
     ]
    }
   ],
   "source": [
    "duplicates_text = dict()\n",
    "for game_title, game in ultimate_games.items():\n",
    "    if 'rawg-description' in game and len(game['rawg-description']) > 1:\n",
    "        if game['rawg-description'] in duplicates_text:\n",
    "            duplicates_text[game['rawg-description']].append(game_title)\n",
    "        else:\n",
    "            duplicates_text[game['rawg-description']] = [game_title]\n",
    "\n",
    "for ind, game in enumerate([v for v in duplicates_text.values() if len(v)>1]):\n",
    "    print(ind, game)"
   ]
  },
  {
   "cell_type": "code",
   "execution_count": 75,
   "metadata": {},
   "outputs": [
    {
     "name": "stdout",
     "output_type": "stream",
     "text": [
      "0 ['God of War', 'God of War 2018']\n",
      "1 ['Mystery Dungeon - Shiren the Wanderer', 'Mystery Dungeon Shiren The Wanderer 3']\n",
      "2 ['Mystical Ninja - Starring Goemon', 'Mystical Ninja 2 - Starring Goemon']\n",
      "3 ['Resident Evil 2', 'Resident Evil 2 - Remake']\n",
      "4 ['Resident Evil 4', 'Resident Evil 4 Remake']\n",
      "5 ['Super Woden GP', 'Super Woden GP 2']\n",
      "6 ['Withering Rooms', 'Minds Beneath Us']\n",
      "7 ['TY the Tasmanian Tiger 2', 'TY the Tasmanian Tiger 3', 'TY the Tasmanian Tiger 4']\n"
     ]
    }
   ],
   "source": [
    "duplicates_text = dict()\n",
    "for game_title, game in ultimate_games.items():\n",
    "    if 'giantbomb-intro' in game and len(game['giantbomb-intro']) > 1:\n",
    "        if game['giantbomb-intro'] in duplicates_text:\n",
    "            duplicates_text[game['giantbomb-intro']].append(game_title)\n",
    "        else:\n",
    "            duplicates_text[game['giantbomb-intro']] = [game_title]\n",
    "\n",
    "for ind, game in enumerate([v for v in duplicates_text.values() if len(v)>1]):\n",
    "    print(ind, game)"
   ]
  },
  {
   "cell_type": "code",
   "execution_count": 28,
   "metadata": {},
   "outputs": [
    {
     "name": "stdout",
     "output_type": "stream",
     "text": [
      "0 ['P.T.', 'PT']\n",
      "1 ['TY the Tasmanian Tiger 2', 'TY the Tasmanian Tiger 3']\n"
     ]
    }
   ],
   "source": [
    "duplicates_text = dict()\n",
    "for game_title, game in ultimate_games.items():\n",
    "    if 'metacritics-description' in game and len(game['metacritics-description']) > 1:\n",
    "        if game['metacritics-description'] in duplicates_text:\n",
    "            duplicates_text[game['metacritics-description']].append(game_title)\n",
    "        else:\n",
    "            duplicates_text[game['metacritics-description']] = [game_title]\n",
    "\n",
    "for ind, game in enumerate([v for v in duplicates_text.values() if len(v)>1]):\n",
    "    print(ind, game)"
   ]
  },
  {
   "cell_type": "code",
   "execution_count": 79,
   "metadata": {},
   "outputs": [
    {
     "name": "stdout",
     "output_type": "stream",
     "text": [
      "8 Doors\n",
      "Ayre\n",
      "BIT.TRIP Presents: Runner2: Future Legend of Rhythm Alien\n",
      "Cadence of Hyrule: Crypt of the NecroDancer Featuring The Legend of Zelda\n",
      "Clock Tower 2 - The Struggle within\n",
      "Clue: The Classic Mystery Game\n",
      "Command & Conquer: Remastered Collection\n",
      "Daredevil - Man Without Fear\n",
      "Disney's Hercules: Action Game\n",
      "Disney's Kim Possible: What's the Switch?\n",
      "DK: Jungle Climber\n",
      "Driver 2: The Wheelman is Back\n",
      "Eternal Darkness Sanity’s Requiem\n",
      "Fighter's Destiny\n",
      "God of War 2018\n",
      "Half-Life: Counter-Strike\n",
      "Hellblade: Senua’s Sacrifice\n",
      "I.Q. Intelligent Qube\n",
      "Invisible. Inc\n",
      "Kill.Switch\n",
      "Kingdom Hearts - 358-2 Days\n",
      "Kingdom Hearts - Re-Chain of Memories\n",
      "Kingdom Hearts - Re-Coded\n",
      "Layton’s Mystery Journey - Katrielle and the Millionaires' Conspiracy\n",
      "LostWinds 2 Winter of the Melodias\n",
      "MARVEL vs CAPCOM FCAC\n",
      "Mega Man Battle Network: Legacy Collection\n",
      "Neighbors Back From Hell\n",
      "Neighbors From Hell\n",
      "Neighbors from Hell 2: On Vacation\n",
      "Ni No Kuni 2 - Revenant Kingdom\n",
      "Overlord + Raising Hell\n",
      "Pokémon - HeartGold Version\n",
      "Pokémon Platinum Version\n",
      "Pokémon Ultra Sun/Ultra Moon\n",
      "Rabbids Go Home: A Comedy Adventure\n",
      "Rock of Ages 3 - Make and Break\n",
      "Roland Garros 2005 - Powered by Smash Court Tennis\n",
      "Skelittle A Giant Party\n",
      "Source of Madness Insanity\n",
      "Star Wars Battlefront 2\n",
      "Surmount - A Mountain Climbing Adventure\n",
      "Teenage Zombies - Invasion of the Alien Brain Thingys!\n",
      "The Blackwell Bundle\n",
      "The Missing JJ Macfield and the Island of Memories\n",
      "The Simpsons - Hit and Run\n",
      "Those Games\n",
      "Thunder Force V: Perfect System\n",
      "ToeJam and Earl - Back in the Groove\n",
      "Tony Hawks Pro Skater 1+2\n",
      "Total War - Rome 2\n",
      "Warcraft I & II\n",
      "Warhammer 40K - Shootas, Blood & Teef\n",
      "Cat God Ranch\n"
     ]
    }
   ],
   "source": [
    "for game_title, game in ultimate_games.items():\n",
    "    if game['htlb-main'] == '/' and game['htlb-main+'] == '/' and game['htlb-complete'] == '/':\n",
    "        print(game_title)"
   ]
  },
  {
   "cell_type": "code",
   "execution_count": null,
   "metadata": {},
   "outputs": [],
   "source": [
    "'''\n",
    "with open('ultimate_games.json', 'w', encoding='utf-8') as file:\n",
    "        json.dump(ultimate_games, file)\n",
    "with open('games_text.json', 'w', encoding='utf-8') as file:\n",
    "        json.dump(games_text, file)\n",
    "'''"
   ]
  }
 ],
 "metadata": {
  "kernelspec": {
   "display_name": "openenv",
   "language": "python",
   "name": "python3"
  },
  "language_info": {
   "codemirror_mode": {
    "name": "ipython",
    "version": 3
   },
   "file_extension": ".py",
   "mimetype": "text/x-python",
   "name": "python",
   "nbconvert_exporter": "python",
   "pygments_lexer": "ipython3",
   "version": "3.11.9"
  }
 },
 "nbformat": 4,
 "nbformat_minor": 2
}
