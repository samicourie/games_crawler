{
 "cells": [
  {
   "cell_type": "code",
   "execution_count": 1,
   "metadata": {},
   "outputs": [],
   "source": [
    "import json\n",
    "with open('ultimate_games.json', 'r', encoding='utf-8') as file:\n",
    "    ultimate_games = json.load(file)\n",
    "with open('games_text.json', 'r', encoding='utf-8') as file:\n",
    "    games_text = json.load(file)"
   ]
  },
  {
   "cell_type": "code",
   "execution_count": null,
   "metadata": {},
   "outputs": [],
   "source": [
    "ultimate_games['Nippon Marathon']"
   ]
  },
  {
   "cell_type": "code",
   "execution_count": null,
   "metadata": {},
   "outputs": [],
   "source": [
    "for game in ultimate_games.values():\n",
    "    print(game['franchise'], '##', game.get('giantbomb-franchises', ''), '##', \n",
    "          game.get('giantbomb-developers', ''), '##', \n",
    "          game['title'], '##', game['title'].replace(':', ' -'))"
   ]
  },
  {
   "cell_type": "code",
   "execution_count": null,
   "metadata": {},
   "outputs": [],
   "source": [
    "count = 0\n",
    "for game_title, game in ultimate_games.items():\n",
    "    if ('steam-success' not in game or not game['steam-success']) and \\\n",
    "        game['platform'] in ['PC', 'PC / Indie', 'PS4 / PS5', 'PS3']:\n",
    "        print(game_title, '#', game['platform'])\n",
    "        count += 1\n",
    "print(count)"
   ]
  },
  {
   "cell_type": "code",
   "execution_count": null,
   "metadata": {},
   "outputs": [],
   "source": [
    "count = 0\n",
    "for game_title, game in ultimate_games.items():\n",
    "    if 'wikipedia-success' in game and game['wikipedia-success']:\n",
    "        if game['wikipedia-plot'] == '' or game['wikipedia-plot'] == '#':\n",
    "            print(game_title)\n",
    "        count += 1"
   ]
  },
  {
   "cell_type": "code",
   "execution_count": null,
   "metadata": {},
   "outputs": [],
   "source": [
    "duplicates_text = dict()\n",
    "for game_title, game in ultimate_games.items():\n",
    "    if 'steam-description' in game and len(game['steam-description']) > 1:\n",
    "        if game['steam-description'] in duplicates_text:\n",
    "            duplicates_text[game['steam-description']].append(game_title)\n",
    "        else:\n",
    "            duplicates_text[game['steam-description']] = [game_title]\n",
    "\n",
    "for ind, game in enumerate([v for v in duplicates_text.values() if len(v)>1]):\n",
    "    print(ind, game)"
   ]
  },
  {
   "cell_type": "code",
   "execution_count": null,
   "metadata": {},
   "outputs": [],
   "source": [
    "'''\n",
    "for game_title in ['Ultimate Ghosts N Goblins']:\n",
    "    ult_game = ultimate_games[game_title]\n",
    "    for key in ['steam-summary', 'steam-tags', 'steam-genres', 'steam-images', 'steam-description',\n",
    "                'steam-positive', 'steam-success', 'steam-release-date', 'steam-developers', 'steam-nb-users']:\n",
    "        if key in ult_game:\n",
    "            del ult_game[key]\n",
    "    if 'text-steam' in games_text[game_title]:\n",
    "        del games_text[game_title]['text-steam']\n",
    "'''\n",
    "ultimate_games['P.T.'], games_text['Ultimate Ghosts N Goblins']"
   ]
  },
  {
   "cell_type": "code",
   "execution_count": null,
   "metadata": {},
   "outputs": [],
   "source": [
    "duplicates_text = dict()\n",
    "for game_title, game in ultimate_games.items():\n",
    "    if 'wikipedia-summary' in game and len(game['wikipedia-summary']) > 1:\n",
    "        if game['wikipedia-summary'] in duplicates_text:\n",
    "            duplicates_text[game['wikipedia-summary']].append(game_title)\n",
    "        else:\n",
    "            duplicates_text[game['wikipedia-summary']] = [game_title]\n",
    "\n",
    "for ind, game in enumerate([v for v in duplicates_text.values() if len(v)>1]):\n",
    "    print(ind, game)"
   ]
  },
  {
   "cell_type": "code",
   "execution_count": null,
   "metadata": {},
   "outputs": [],
   "source": [
    "duplicates_text = dict()\n",
    "for game_title, game in ultimate_games.items():\n",
    "    if 'igdb-summary' in game and len(game['igdb-summary']) > 1:\n",
    "        if game['igdb-summary'] in duplicates_text:\n",
    "            duplicates_text[game['igdb-summary']].append(game_title)\n",
    "        else:\n",
    "            duplicates_text[game['igdb-summary']] = [game_title]\n",
    "\n",
    "for ind, game in enumerate([v for v in duplicates_text.values() if len(v)>1]):\n",
    "    print(ind, game)"
   ]
  },
  {
   "cell_type": "code",
   "execution_count": null,
   "metadata": {},
   "outputs": [],
   "source": [
    "duplicates_text = dict()\n",
    "for game_title, game in ultimate_games.items():\n",
    "    if 'rawg-description' in game and len(game['rawg-description']) > 1:\n",
    "        if game['rawg-description'] in duplicates_text:\n",
    "            duplicates_text[game['rawg-description']].append(game_title)\n",
    "        else:\n",
    "            duplicates_text[game['rawg-description']] = [game_title]\n",
    "\n",
    "for ind, game in enumerate([v for v in duplicates_text.values() if len(v)>1]):\n",
    "    print(ind, game)"
   ]
  },
  {
   "cell_type": "code",
   "execution_count": null,
   "metadata": {},
   "outputs": [],
   "source": [
    "duplicates_text = dict()\n",
    "for game_title, game in ultimate_games.items():\n",
    "    if 'giantbomb-intro' in game and len(game['giantbomb-intro']) > 1:\n",
    "        if game['giantbomb-intro'] in duplicates_text:\n",
    "            duplicates_text[game['giantbomb-intro']].append(game_title)\n",
    "        else:\n",
    "            duplicates_text[game['giantbomb-intro']] = [game_title]\n",
    "\n",
    "for ind, game in enumerate([v for v in duplicates_text.values() if len(v)>1]):\n",
    "    print(ind, game)"
   ]
  },
  {
   "cell_type": "code",
   "execution_count": null,
   "metadata": {},
   "outputs": [],
   "source": [
    "duplicates_text = dict()\n",
    "for game_title, game in ultimate_games.items():\n",
    "    if 'metacritics-description' in game and len(game['metacritics-description']) > 1:\n",
    "        if game['metacritics-description'] in duplicates_text:\n",
    "            duplicates_text[game['metacritics-description']].append(game_title)\n",
    "        else:\n",
    "            duplicates_text[game['metacritics-description']] = [game_title]\n",
    "\n",
    "for ind, game in enumerate([v for v in duplicates_text.values() if len(v)>1]):\n",
    "    print(ind, game)"
   ]
  },
  {
   "cell_type": "code",
   "execution_count": null,
   "metadata": {},
   "outputs": [],
   "source": [
    "for game_title, game in ultimate_games.items():\n",
    "    if game['htlb-main'] == '/' and game['htlb-main+'] == '/' and game['htlb-complete'] == '/':\n",
    "        print(game_title)"
   ]
  },
  {
   "cell_type": "code",
   "execution_count": null,
   "metadata": {},
   "outputs": [],
   "source": [
    "'''\n",
    "with open('ultimate_games.json', 'w', encoding='utf-8') as file:\n",
    "        json.dump(ultimate_games, file)\n",
    "with open('games_text.json', 'w', encoding='utf-8') as file:\n",
    "        json.dump(games_text, file)\n",
    "'''"
   ]
  }
 ],
 "metadata": {
  "kernelspec": {
   "display_name": "openenv",
   "language": "python",
   "name": "python3"
  },
  "language_info": {
   "codemirror_mode": {
    "name": "ipython",
    "version": 3
   },
   "file_extension": ".py",
   "mimetype": "text/x-python",
   "name": "python",
   "nbconvert_exporter": "python",
   "pygments_lexer": "ipython3",
   "version": "3.11.9"
  }
 },
 "nbformat": 4,
 "nbformat_minor": 2
}
