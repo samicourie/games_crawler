{
 "cells": [
  {
   "cell_type": "code",
   "execution_count": 1,
   "metadata": {},
   "outputs": [],
   "source": [
    "import json\n",
    "from langchain_text_splitters import RecursiveCharacterTextSplitter\n",
    "from langchain.schema.document import Document\n",
    "from langchain_huggingface import HuggingFaceEmbeddings\n",
    "from langchain.vectorstores.chroma import Chroma\n",
    "from langchain.vectorstores.qdrant import Qdrant\n",
    "from langchain.vectorstores.faiss import FAISS\n",
    "from qdrant_client import QdrantClient\n",
    "from qdrant_client.models import VectorParams, Distance\n",
    "from transformers import AutoTokenizer, AutoModel"
   ]
  },
  {
   "cell_type": "code",
   "execution_count": 2,
   "metadata": {},
   "outputs": [],
   "source": [
    "# with open('games_text.json', 'r', encoding='utf-8') as file:\n",
    "#     games_text = json.load(file)\n",
    "\n",
    "with open('ultimate_games.json', 'r', encoding='utf-8') as file:\n",
    "    ultimate_games = json.load(file)"
   ]
  },
  {
   "cell_type": "code",
   "execution_count": 5,
   "metadata": {},
   "outputs": [],
   "source": [
    "rag_list = []\n",
    "for game_title, game_obj in ultimate_games.items():\n",
    "    for text in ['rawg-description', 'steam-description', 'steam-summary', 'steam-tags', \n",
    "                 'igdb-storyline', 'igdb-summary', 'giantbomb-intro', 'giantbomb-description',\n",
    "                 'metacritics-description', 'wikipedia-gameplay', 'wikipedia-summary', 'wikipedia-plot', 'wikipedia-synopsis']:\n",
    "        if text in game_obj and len(game_obj[text]) > 5:\n",
    "            rag_list.append({'name': game_title, 'text': game_obj[text], 'meta': text})"
   ]
  },
  {
   "cell_type": "code",
   "execution_count": 6,
   "metadata": {},
   "outputs": [],
   "source": [
    "with open('text_test.json', 'w', encoding='utf-8') as file:\n",
    "    json.dump(rag_list, file)"
   ]
  },
  {
   "cell_type": "code",
   "execution_count": 5,
   "metadata": {},
   "outputs": [],
   "source": [
    "class CustomE5Embeddings(HuggingFaceEmbeddings):\n",
    "    def __init__(self, model_name: str = \"intfloat/e5-large-v2\"):\n",
    "        self.tokenizer = AutoTokenizer.from_pretrained(model_name)\n",
    "        self.model = AutoModel.from_pretrained(model_name)\n",
    "\n",
    "    def embed_documents(self, texts):\n",
    "        \"\"\"\n",
    "        Embed a list of documents.\n",
    "        \"\"\"\n",
    "        inputs = self.tokenizer(texts, padding=True, truncation=True, return_tensors=\"pt\", max_length=512)\n",
    "        outputs = self.model(**inputs)\n",
    "        embeddings = outputs.last_hidden_state[:, 0, :]  # CLS token embeddings\n",
    "        return embeddings.detach().numpy().tolist()\n",
    "\n",
    "    def embed_query(self, text):\n",
    "        \"\"\"\n",
    "        Embed a query for retrieval.\n",
    "        \"\"\"\n",
    "        return self.embed_documents([text])[0]"
   ]
  },
  {
   "cell_type": "code",
   "execution_count": 7,
   "metadata": {},
   "outputs": [],
   "source": [
    "documents = []\n",
    "for item in rag_list:\n",
    "    text = item.get('text', '')\n",
    "    # documents.append(Document(page_content=text, metadata={'name': item['name']}))\n",
    "    documents.append(Document(page_content=text, metadata={'name': item['name'], 'page': item['meta']}))"
   ]
  },
  {
   "cell_type": "code",
   "execution_count": 9,
   "metadata": {},
   "outputs": [],
   "source": [
    "def split_documents(documents: list[Document]):\n",
    "    text_splitter = RecursiveCharacterTextSplitter(\n",
    "        chunk_size=1000,\n",
    "        chunk_overlap=80,\n",
    "        length_function=len,\n",
    "        is_separator_regex=False,\n",
    "    )\n",
    "    return text_splitter.split_documents(documents)"
   ]
  },
  {
   "cell_type": "code",
   "execution_count": 10,
   "metadata": {},
   "outputs": [],
   "source": [
    "chunked_documents = split_documents(documents=documents)"
   ]
  },
  {
   "cell_type": "code",
   "execution_count": 11,
   "metadata": {},
   "outputs": [],
   "source": [
    "embedder = HuggingFaceEmbeddings(model_name='sentence-transformers/all-MiniLM-L6-v2')\n",
    "# embedder = HuggingFaceEmbeddings(model_name='intfloat/e5-large-v2')"
   ]
  },
  {
   "cell_type": "code",
   "execution_count": 25,
   "metadata": {},
   "outputs": [],
   "source": [
    "'''\n",
    "CHROMA_PATH = \"chroma-grained\"\n",
    "db = Chroma.from_documents(\n",
    "        documents=chunked_documents, \n",
    "        embedding=embedder, \n",
    "        persist_directory=CHROMA_PATH\n",
    "    )\n",
    "\n",
    "# Load Chroma\n",
    "chroma_db = Chroma(\n",
    "    embedding_function=embedder,\n",
    "    persist_directory=CHROMA_PATH \n",
    ")\n",
    "\n",
    "QDRANT_PATH = 'qdrant'\n",
    "collection_name = 'games'\n",
    "qdrant_client = QdrantClient(path=QDRANT_PATH)\n",
    "qdrant_client.create_collection(\n",
    "    collection_name=collection_name,\n",
    "    vectors_config=VectorParams(size=768, distance=Distance.COSINE),  # E5 embedding size\n",
    ")\n",
    "db = Qdrant.from_documents(\n",
    "    documents=chunked_documents,\n",
    "    embedding=embedder,\n",
    "    client=qdrant_client,\n",
    "    collection_name=collection_name\n",
    ")\n",
    "\n",
    "'''\n",
    "FAISS_PATH = 'faiss-grained'\n",
    "db = FAISS.from_documents(\n",
    "    documents=chunked_documents,\n",
    "    embedding=embedder\n",
    ")\n",
    "\n",
    "db.save_local(FAISS_PATH)\n",
    "\n",
    "FAISS_PATH = 'faiss'\n",
    "# db = FAISS.load_local(FAISS_PATH, embeddings=embedder, allow_dangerous_deserialization=True)\n"
   ]
  },
  {
   "cell_type": "code",
   "execution_count": 32,
   "metadata": {},
   "outputs": [],
   "source": [
    "results = db.similarity_search(query=\"with an emphasis on close combat and exploration in which the player enters the once-prosperous now-bleak insect kingdom of Hallownest, travels through its various districts, meets friendly inhabitants, fights hostile ones and uncovers the kingdom's history while improving their combat abilities and movement arsenal by fighting bosses and accessing out-of-the-way areas.\",\n",
    "                               k=10, fetch_k=100, filter={\n",
    "                                             'page': {'$in': ['steam-summary']}})"
   ]
  },
  {
   "cell_type": "code",
   "execution_count": 33,
   "metadata": {},
   "outputs": [
    {
     "data": {
      "text/plain": [
       "[Document(id='e1437bdc-16c2-4c03-94e0-09783f6c6dce', metadata={'name': 'Hollow Knight', 'page': 'steam-summary'}, page_content=\"at the kingdom's heart.Game FeaturesClassic side-scrolling action, with all the modern trimmings.Tightly tuned 2D controls. Dodge, dash and slash your way through even the most deadly adversaries.Explore a vast interconnected world of forgotten highways, overgrown wilds and ruined cities.Forge your own path! The world of Hallownest is expansive and open. Choose which paths you take, which enemies you face and find your own way forward.Evolve with powerful new skills and abilities! Gain spells, strength and speed. Leap to new heights on ethereal wings. Dash forward in a blazing flash. Blast foes with fiery Soul!Equip Charms! Ancient relics that offer bizarre new powers and abilities. Choose your favourites and make your journey unique!An enormous cast of cute and creepy characters all brought to life with traditional 2D frame-by-frame animation.Over 130 enemies! 30 epic bosses! Face ferocious beasts and vanquish ancient knights on your quest through the kingdom. Track down every last\"),\n",
       " Document(id='96eed9dd-681a-4ddf-a4b8-9b907f0d13e7', metadata={'name': 'Empires of the Undergrowth', 'page': 'steam-summary'}, page_content='About This Game Forge your empire in the world of ants, building extensive nests and managing an intricate hierarchy in a way that puts the real-time strategy genre under the microscope. Control a variety of warrior ant species in intense battles, command your workers to build and supply an ever-expanding base, and protect your queen at all costs while navigating the unique threats and opportunities of the insect world.Hundreds of warriors clash in a melee of gnashing mandibles as formic acid artillery fires overhead. Nightfall has come and the last of the workers are rushing back underground, dodging beetles to deliver food to the nest. The stockpile is empty, and without more, reinforcements will not hatch for the ongoing war between the duelling Empires of the Undergrowth.Starting from a central room hosting your queen, order your workers to develop and optimise your nest – a vast network of store rooms, nurseries, and hallways. Dig through a hex-based maze of soil and bedrock,'),\n",
       " Document(id='02bb2d43-5594-4d7c-be41-4306781b95f5', metadata={'name': 'Hollow Knight', 'page': 'steam-summary'}, page_content=\"About This Game Hollow Knight Expands with Free ContentGodmaster - Take your place amongst the Gods. New Characters and Quest. New Boss Fights. Available Now!Lifeblood - A Kingdom Upgraded! New Boss. Upgraded Bosses. Tweaks and Refinements across the whole game.The Grimm Troupe - Light the Nightmare Lantern. Summon the Troupe. New Major Quest. New Boss Fights. New Charms. New Enemies. New Friends.Hidden Dreams - Mighty new foes emerge! New Boss fights. New Upgrades. New Music.Brave the Depths of a Forgotten KingdomBeneath the fading town of Dirtmouth sleeps an ancient, ruined kingdom. Many are drawn below the surface, searching for riches, or glory, or answers to old secrets.Hollow Knight is a classically styled 2D action adventure across a vast interconnected world. Explore twisting caverns, ancient cities and deadly wastes; battle tainted creatures and befriend bizarre bugs; and solve ancient mysteries at the kingdom's heart.Game FeaturesClassic side-scrolling action, with all the\"),\n",
       " Document(id='abc537ff-ce34-412c-8114-6dcc5e76996c', metadata={'name': 'Vernal Edge', 'page': 'steam-summary'}, page_content=\"About This Game Welcome to the Kingdom of Haricot.Years ago, the land took to the sky, becoming a mysterious series of floating islands, where the power-hungry Church of Aloe now rules with an iron fist.Enter Vernal, A young woman bent on finding her estranged father. With the help of some abnormal martial prowess and an amnesiac automaton named Chervil, She'll need to make her way across this mysterious land if she wants to satisfy her need for revenge, and the truth. Take control of Vernal in this beautiful pixel art Metroidvania. Unravel the secrets of her past and the mysteries of Haricot as you battle your way through this broken kingdom.FEATURES A fast paced metroid-vaniaExplore the floating islands of Haricot. Town or dungeon, leave no stones unturned in order to gain more powers! Jump, dash, slide your way into beautiful pixel art environments and don’t forget: secrets could be anywhere! Dynamic and rewarding combat systemStrive for excellence as you master Vernal's many combos\"),\n",
       " Document(id='22d93718-7361-4abc-a576-3b7ca3412db8', metadata={'name': 'Bug Fables - The Everlasting Sapling', 'page': 'steam-summary'}, page_content=\"leaves can grant even immortality! In search of this ancient artifact, a brave team of explorers - Vi, Kabbu, and Leif - will travel across many different environments. In order to do so, they must work together to clear puzzles, defeat strong enemies and help the general bug populace!FEATURESSeven lush chapters of story following the heroes across Bugaria!Traverse vast overworlds that transition into turn-based combat! Use action commands with Vi's Beemerang, Leif's Ice Magic, or Kabbu's Horn to make attacks more effective or block enemy attacks! Turn the tide of battle with the Turn Relay feature to exploit enemy weaknesses with the power of teamwork!Explore unique areas including: The Ant Kingdom, the treacherous Snakemouth Den, the picturesque Golden Hills, The Lost Sands, and Vi's home, the Bee Kingdom!Utilize a cooking system to turn ingredients into items that can help you in battle!Engage in a Tattle System that lets you hear your party interact with each other as they\"),\n",
       " Document(id='e1809933-285f-4da9-97d7-d33738e913f4', metadata={'name': 'Final Fantasy XIII-2', 'page': 'steam-summary'}, page_content='of ExplorationThe situation, scenery, flora, fauna and weather conditions all change, depending on when you visit locations. Untangling the threads of time is essential in witnessing the full story!Enhanced Battle SystemNew elements such as visually dynamic Cinematic Action sequences, and an innovative battle clock that will either reward or punish players, create further variety and choice for the player.Master of MonstersA wide variety of over 150 different monsters inhabiting the game world can be recruited into the player’s party and battle strategy, with each creature having unique and devastating special abilities!'),\n",
       " Document(id='774230ab-87a6-4ec5-b8ed-1c5a62d6695d', metadata={'name': 'The Wild at Heart', 'page': 'steam-summary'}, page_content='About This Game Wield an ever-growing herd of quirky creatures to rebuild broken paths, battle perilous beasts, and solve peculiar puzzles in a rich, interconnected world. Join two young runaways as they unravel the mysteries of a lost realm in this nostalgic storybook fantasy!Amass your HordeCollect and deploy a swarm of quirky Spritelings; small magical creatures for you to command. Break stuff, collect loot, fight enemies, build new paths, and more!ExploreA unique and sequestered world rich with centuries full of lore. Woods, caves, coastline, ancient shrines... The Deep Woods is full of puzzles to be solved and secrets waiting to be uncovered.Collect & CraftGather rare resources like magical crystals, scrap, electrical components and more to build new structures, items, and upgrades! BattleTake on precarious wildlife and supernatural foes with the unique abilities of your Spriteling swarm and your trusty vacuum, the Gustbuster!Nightfall\"The dark is bad!\" - A common saying among the'),\n",
       " Document(id='47f06c12-9688-458b-a3ce-347c22867fe3', metadata={'name': 'TUNIC', 'page': 'steam-summary'}, page_content='About This Game Explore a land filled with lost legends, ancient powers, and ferocious monsters in TUNIC, an isometric action game about a small fox on a big adventure. Stranded in a ruined land, and armed with only your own curiosity, you will confront colossal beasts, collect strange and powerful items, and unravel long-lost secrets.BECOME A LEGENDStories say that a great treasure is hidden somewhere in this land. Perhaps it lies beyond the golden door? Or somewhere deep beneath the earth? Some tales tell of a palace high above the clouds, and of ancient beings with incredible power. What will you find?REBUILD A SACRED BOOKDuring your travels, you’ll reconstruct the game’s Instruction Manual. Page by page, you’ll reveal maps, tips, special techniques, and the deepest of secrets. If you find every last one, maybe something good will happen...BE COURAGEOUS, LITTLE ONE!Dive into varied, technical combat. Dodge, block, parry, and strike! Learn how to conquer a wide cast of monsters, big'),\n",
       " Document(id='31ae6229-ac7e-4395-83a0-8e0b29aa5296', metadata={'name': 'Rune Factory 4', 'page': 'steam-summary'}, page_content='About This Game Welcome to Selphia, a region ruled by the Native Dragon Ventuswill...and you!After falling from the sky and landing on the back of a friendly dragon, the young hero or heroine is invited to live in the local castle and, as a newly designated ruler, begins their life anew while developing the town, exploring nearby dungeons, and cultivating the soil.Start an exciting new life and embark on a grand adventure in this beloved entry in the Rune Factory series!FeaturesA World of PossibilityGrow crops, raise monsters, catch fish, cook up tasty dishes, and craft powerful equipment. Live your life however you choose!Adventure AwaitsVenture outside the town gates to explore dangerous dungeons. Use swords, spears, staves, and other weapons and magic to personalize your battle tactics as formidable monsters await in trap-laden dungeons. Invite the townsfolk, develop friendships with monsters, and grow stronger together.Expand Your Social CircleBecome friends (or more than friends)'),\n",
       " Document(id='1b4eb861-0e0a-4d81-9450-59070225c6cd', metadata={'name': 'Kingdom Two Crowns', 'page': 'steam-summary'}, page_content=\"About This Game Build - Explore - Defend - Conquer A shroud of mystery envelops these uncharted medieval lands where ancient monuments, relics and mythical creatures await. Echoes of bygone eras speak of past greatness and in Kingdom Two Crowns, part of the award-winning franchise Kingdom, you embark on an adventure as the Monarch. In this side-scrolling journey atop your steed, you recruit loyal subjects, build your kingdom and protect your crown from the Greed, monstrous creatures looking to steal your kingdom's treasures. Journey alone or together - in Kingdom Two Crowns, a duo of Monarchs can work cooperatively to build and forge a Kingdom that stands the test of time. Lay the foundation of a mighty Kingdom with towering walls and protecting towers while cultivating prosperity through building farms and recruiting villagers. In Kingdom Two Crowns expanding and growing your Kingdom grants access to new units and technologies. Venture into the unknown beyond the protection of your\")]"
      ]
     },
     "execution_count": 33,
     "metadata": {},
     "output_type": "execute_result"
    }
   ],
   "source": [
    "results"
   ]
  },
  {
   "cell_type": "code",
   "execution_count": 31,
   "metadata": {},
   "outputs": [],
   "source": [
    "CHROMA_PATH = \"chroma\"\n",
    "db = Chroma(\n",
    "    embedding_function=embedder,\n",
    "    persist_directory=CHROMA_PATH \n",
    ")\n",
    "\n",
    "results = db.similarity_search(query=\"with an emphasis on close combat and exploration in which the player enters the once-prosperous now-bleak insect kingdom of Hallownest, travels through its various districts, meets friendly inhabitants, fights hostile ones and uncovers the kingdom's history while improving their combat abilities and movement arsenal by fighting bosses and accessing out-of-the-way areas.\",\n",
    "                               k=10, filter={'name': {'$nin': ['Hollow Knight']}})"
   ]
  },
  {
   "cell_type": "code",
   "execution_count": 32,
   "metadata": {},
   "outputs": [
    {
     "data": {
      "text/plain": [
       "[Document(metadata={'name': 'Kingdom Two Crowns'}, page_content=\"Summary: About This Game Build - Explore - Defend - Conquer A shroud of mystery envelops these uncharted medieval lands where ancient monuments, relics and mythical creatures await. Echoes of bygone eras speak of past greatness and in Kingdom Two Crowns, part of the award-winning franchise Kingdom, you embark on an adventure as the Monarch. In this side-scrolling journey atop your steed, you recruit loyal subjects, build your kingdom and protect your crown from the Greed, monstrous creatures looking to steal your kingdom's treasures. Journey alone or together - in Kingdom Two Crowns, a duo of Monarchs can work cooperatively to build and forge a Kingdom that stands the test of time. Lay the foundation of a mighty Kingdom with towering walls and protecting towers while cultivating\"),\n",
       " Document(metadata={'name': 'Pathfinder - Kingmaker'}, page_content='<p>Conquer new regions as claim them as your own, carving your kingdom from the wilderness. While classic dungeon crawling and exploration lie at the heart of this adventure, diplomacy, politics, and kingdom development are also part of the challenge. Choose your allies well, and keep them close while exploring ancient tombs and ruins — and while dealing with politics in your own court.</p>'),\n",
       " Document(metadata={'name': 'Empires of the Undergrowth'}, page_content='Summary: About This Game Forge your empire in the world of ants, building extensive nests and managing an intricate hierarchy in a way that puts the real-time strategy genre under the microscope. Control a variety of warrior ant species in intense battles, command your workers to build and supply an ever-expanding base, and protect your queen at all costs while navigating the unique threats and opportunities of the insect world.Hundreds of warriors clash in a melee of gnashing mandibles as formic acid artillery fires overhead. Nightfall has come and the last of the workers are rushing back underground, dodging beetles to deliver food to the nest. The stockpile is empty, and without more, reinforcements will not hatch for the ongoing war between the duelling Empires of the'),\n",
       " Document(metadata={'name': 'Bug Fables - The Everlasting Sapling'}, page_content='Plot: Setting: Bug Fables takes place in the land of Bugaria, entirely within the backyard of an abandoned house. It is home to numerous types of sentient insects, who were uplifted by a mysterious force following the disappearance of humans in an unspecified cataclysm. Other insects were unaffected by the force, and remained feral. Bugaria is separated into several kingdoms: Ants to the center, Bees to the West, Termites to the South, and Wasps to the North. The land also includes features such as a vast desert - actually an old sandbox - and a lake formed by a leaking pipe. Bugaria is a rare safe haven due to the effects of a magical crystal, and while other lands exist in the far north and east, they are at the mercy of unknown giant beasts.'),\n",
       " Document(metadata={'name': 'Bug Fables - The Everlasting Sapling'}, page_content=\"attacks more effective or block enemy attacks! Turn the tide of battle with the Turn Relay feature to exploit enemy weaknesses with the power of teamwork!Explore unique areas including: The Ant Kingdom, the treacherous Snakemouth Den, the picturesque Golden Hills, The Lost Sands, and Vi's home, the Bee Kingdom!Utilize a cooking system to turn ingredients into items that can help you in battle!Engage in a Tattle System that lets you hear your party interact with each other as they discover all the secrets Bugaria has in store!Over 30 sidequests and 15 optional bosses!\"),\n",
       " Document(metadata={'name': 'Risen Kingdom'}, page_content='<strong>Risen Kingdom</strong> is a real-time strategy game with building and settlement management mechanics. The game is set in a medieval fantasy world years after a great Kingdom has been overrun by hordes of the undead. Now, the bravest warriors are going on a campaign to claim back the land once lost by their ancestors and bring the Kingdom back to its former glory.<h3>Build your Settlement</h3><br/><ul><li>Build mills and houses to provide your people with food and a place to live.<br/></li><li>Obtain natural resources, expand your settlement and develop new technologies.<br/></li><li>Build markets and banks to ensure the settlement’s economic stability.<br/></li><li>Carefully manage resources, research new tech and lead your settlement to prosperity!</li></ul><h3>Defend your'),\n",
       " Document(metadata={'name': 'The Mummy Demastered'}, page_content=\"Summary: About This Game A powerful ancient evil has arisen, and the war to save humanity has begun! The Mummy Demastered throws you into a 16-bit-inspired battle against the undead in a 2D, nonlinear, action-packed adventure. As an elite agent in the monster-hunting Prodigium organization, you must use a variety of weapons, upgrades, and mysterious artifacts to defend mankind against the supernatural hordes of Princess Ahmanet. Your Prodigium unit is already on the scene, but HQ lost contact with them hours ago. Only by exploring tombs, forests, abandoned tunnels, and the cursed streets of London will you discover the fate of your allies. But beware - Ahmanet commands legions of undead, insects, plague-ridden vermin, and worse! If you're not careful, you'll be the next soul in her army.\"),\n",
       " Document(metadata={'name': 'Pathfinder - Kingmaker'}, page_content='<li>new items and weaponry  </li>\\n<li>improved balance, especially in the beginning and last two chapters of the game  </li>\\n<li>enhanced kingdom management system, both in terms of balance as well as usability and player comfort  </li>\\n<li>increased variety of random encounters on the global map  </li>\\n<li>thousands of fixes and improvements made since the game&#39;s initial release  </li>\\n</ul>\\n<p>Explore the Stolen Lands, a region that has been contested territory for centuries: Hundreds of kingdoms have risen and fallen in these lands, and now it is time for you to make your mark—by building your own kingdom! To do so, you’ll need to survive the harsh wilderness and the threat of rival nations… as well as threats within your own court.</p>'),\n",
       " Document(metadata={'name': 'Age of Wonders 4'}, page_content='strategy allows you to try new tactics or explore new powers at every turnTactical turn-based battles bring your armies to life, showcasing their power in an environment shaped by your decisions. From skirmishes with roaming monsters to vast sieges with dozens of units on each side, with the addition of a morale system and more features, every battle brings a fresh challengeTremendous variety in empires, units, and environments keep the game endlessly replayable. Age of Wonders is more moddable and open-ended than ever in the series’ historyExplore a new realm with each game - or create your own! Challenge new variations and combinations of locations and features, from frozen wastelands ruled by ice queens to desolated ruins where dragons roamA new event system provides unexpected levels'),\n",
       " Document(metadata={'name': 'Risen Kingdom'}, page_content='Summary: About This Game Risen Kingdom is a real-time strategy game with building and settlement management mechanics. The game is set in a medieval fantasy world years after a great Kingdom has been overrun by hordes of the undead. Now, the bravest warriors are going on a campaign to claim back the land once lost by their ancestors and bring the Kingdom back to its former glory.Build your SettlementBuild mills and houses to provide your people with food and a place to live.Obtain natural resources, expand your settlement and develop new technologies.Build markets and banks to ensure the settlement’s economic stability.Carefully manage resources, research new tech and lead your settlement to prosperity!Defend your SettlementTrain and hire warriors to defend your settlement. Each unit has')]"
      ]
     },
     "execution_count": 32,
     "metadata": {},
     "output_type": "execute_result"
    }
   ],
   "source": [
    "results"
   ]
  }
 ],
 "metadata": {
  "kernelspec": {
   "display_name": "openenv",
   "language": "python",
   "name": "python3"
  },
  "language_info": {
   "codemirror_mode": {
    "name": "ipython",
    "version": 3
   },
   "file_extension": ".py",
   "mimetype": "text/x-python",
   "name": "python",
   "nbconvert_exporter": "python",
   "pygments_lexer": "ipython3",
   "version": "3.11.9"
  }
 },
 "nbformat": 4,
 "nbformat_minor": 2
}
