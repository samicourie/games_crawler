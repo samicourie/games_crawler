{
 "cells": [
  {
   "cell_type": "code",
   "execution_count": 58,
   "metadata": {},
   "outputs": [],
   "source": [
    "import os\n",
    "import random\n",
    "import json\n",
    "import numpy as np\n",
    "import colorsys\n",
    "from PIL import Image, ImageOps "
   ]
  },
  {
   "cell_type": "code",
   "execution_count": 4,
   "metadata": {},
   "outputs": [],
   "source": [
    "image_list = os.listdir('Covers 1200/')\n",
    "images_objs = [Image.open('Covers 1200/' + img) for img in image_list]"
   ]
  },
  {
   "cell_type": "code",
   "execution_count": 11,
   "metadata": {},
   "outputs": [
    {
     "name": "stdout",
     "output_type": "stream",
     "text": [
      "1820 1500 543 768\n"
     ]
    }
   ],
   "source": [
    "widths, heights = zip(*(i.size for i in images_objs))\n",
    "\n",
    "max_height, min_height = max(heights), min(heights)\n",
    "max_width, min_width = max(widths), min(widths)\n",
    "\n",
    "print(max_width, max_height, min_width, min_height)"
   ]
  },
  {
   "cell_type": "code",
   "execution_count": 12,
   "metadata": {},
   "outputs": [],
   "source": [
    "with open('ultimate_games.json', 'r', encoding='utf-8') as file:\n",
    "    ultimate_games = json.load(file)\n",
    "with open('game_platform_franchise.txt', 'r', encoding='utf-8') as file:\n",
    "    franchise_games = file.readlines()\n",
    "\n",
    "clean_images_list = [v.replace('_Cover.jpg', '') for v in image_list]"
   ]
  },
  {
   "cell_type": "code",
   "execution_count": 13,
   "metadata": {},
   "outputs": [],
   "source": [
    "image_dict = dict()\n",
    "for line in franchise_games:\n",
    "    line_feat = line.replace('\\n', '').split('\\t')\n",
    "    line_franchise_1 = line_feat[0]\n",
    "    line_franchise_2 = line_feat[1]\n",
    "    line_developer = line_feat[2]\n",
    "    game_title = line_feat[3]\n",
    "    image_title = line_feat[4]\n",
    "    \n",
    "    if line_franchise_2 != '':\n",
    "        if line_franchise_2 not in image_dict:\n",
    "            image_dict[line_franchise_2] = []\n",
    "        image_dict[line_franchise_2].append(image_title)\n",
    "        continue\n",
    "\n",
    "    if line_franchise_1 != '':\n",
    "        if line_franchise_1 not in image_dict:\n",
    "            image_dict[line_franchise_1] = []\n",
    "        image_dict[line_franchise_1].append(image_title)\n",
    "        continue\n",
    "\n",
    "    if line_developer != '':\n",
    "        if line_developer not in image_dict:\n",
    "            image_dict[line_developer] = []\n",
    "        image_dict[line_developer].append(image_title)\n",
    "        continue\n",
    "\n",
    "    image_dict[game_title] = [image_title]"
   ]
  },
  {
   "cell_type": "code",
   "execution_count": 14,
   "metadata": {},
   "outputs": [],
   "source": [
    "sorted_images = []\n",
    "for v in sorted(list(image_dict.values()), key=len, reverse=True):\n",
    "    sorted_images.extend(v)\n",
    "\n",
    "for ind in range(len(sorted_images)):\n",
    "    sorted_images[ind] += '_Cover.jpg'\n",
    "\n",
    "images_objs = [Image.open('Covers/' + img) for img in sorted_images]\n"
   ]
  },
  {
   "cell_type": "code",
   "execution_count": 59,
   "metadata": {},
   "outputs": [],
   "source": [
    "images_objs = [Image.open('Covers/' + img) for img in ['Inside_Cover.jpg', 'Prototype_Cover.jpg']]\n",
    "for ind, img in enumerate(images_objs):\n",
    "    img_1 = ImageOps.expand(img.resize((864, 1296)).convert('RGB'), border=10, fill='black')\n",
    "    img_2 = ImageOps.expand(img.resize((1200, 1600)).convert('RGB'), border=10, fill='black')\n",
    "    img_3 = ImageOps.expand(img.resize((180, 240)).convert('RGB'), border=2, fill='black')\n",
    "    img_1.save('Covers 864/' +  [ind].replace('_Cover', '_864_Cover'))\n",
    "    img_2.save('Covers 1200/' + image_list[ind].replace('_Cover', '_1200_Cover'))\n",
    "    img_3.save('Covers 180/' + image_list[ind].replace('_Cover', '_180_Cover'))"
   ]
  },
  {
   "cell_type": "code",
   "execution_count": 15,
   "metadata": {},
   "outputs": [],
   "source": [
    "images_objs = [img.resize((864,1296)).convert('RGB') for img in images_objs]\n",
    "images_objs = [ImageOps.expand(img, border=10, fill='black') for img in images_objs]"
   ]
  },
  {
   "cell_type": "code",
   "execution_count": 5,
   "metadata": {},
   "outputs": [
    {
     "name": "stdout",
     "output_type": "stream",
     "text": [
      "1220 1620 1220 1620\n"
     ]
    }
   ],
   "source": [
    "widths, heights = zip(*(i.size for i in images_objs))\n",
    "\n",
    "max_height, min_height = max(heights), min(heights)\n",
    "max_width, min_width = max(widths), min(widths)\n",
    "\n",
    "print(max_width, max_height, min_width, min_height)"
   ]
  },
  {
   "cell_type": "code",
   "execution_count": 6,
   "metadata": {},
   "outputs": [],
   "source": [
    "random.shuffle(images_objs)"
   ]
  },
  {
   "cell_type": "code",
   "execution_count": null,
   "metadata": {},
   "outputs": [],
   "source": [
    "horizontal_count = 4\n",
    "image_hor_list = []\n",
    "for offset in range(0, len(images_objs), horizontal_count):\n",
    "    image_hor_list.append(np.hstack([img for img in images_objs[offset: offset+horizontal_count]]))"
   ]
  },
  {
   "cell_type": "code",
   "execution_count": 18,
   "metadata": {},
   "outputs": [],
   "source": [
    "vertical_count = 4\n",
    "image_ver_list = []\n",
    "for offset in range(0, len(image_hor_list), vertical_count):\n",
    "    image_ver_list.append(np.vstack([img for img in image_hor_list[offset: offset+vertical_count]]))\n",
    "    # new_image.save('Posters/Trifecta_vertical.jpg')"
   ]
  },
  {
   "cell_type": "code",
   "execution_count": 19,
   "metadata": {},
   "outputs": [],
   "source": [
    "for ind, img in enumerate(image_ver_list):\n",
    "    imgs_poster = Image.fromarray(img)\n",
    "    imgs_poster.save('Posters/poster_' + str(ind) + '.jpg')"
   ]
  },
  {
   "cell_type": "code",
   "execution_count": 4,
   "metadata": {},
   "outputs": [],
   "source": [
    "image_list = os.listdir('Covers 1200/')\n",
    "poster_size = 16\n",
    "random.shuffle(image_list)\n",
    "poster_count = 1\n",
    "for offset in range(0, len(image_list), poster_size):\n",
    "    images_objs = [Image.open('Covers 1200/' + img) for img in image_list[offset: offset+poster_size]]\n",
    "\n",
    "    horizontal_count = 4\n",
    "    image_hor_list = []\n",
    "    for offset in range(0, len(images_objs), horizontal_count):\n",
    "        image_hor_list.append(np.hstack([img for img in images_objs[offset: offset+horizontal_count]]))\n",
    "\n",
    "    poster = np.vstack([img for img in image_hor_list])\n",
    "    poster = Image.fromarray(poster)\n",
    "    poster.save('Posters/poster_' + str(poster_count) + '.jpg')\n",
    "    poster_count += 1"
   ]
  },
  {
   "cell_type": "code",
   "execution_count": 47,
   "metadata": {},
   "outputs": [],
   "source": [
    "image_list = os.listdir('Covers 1200/')\n",
    "color_mean_list = []\n",
    "for ind, img in enumerate(image_list):\n",
    "    image_obj = Image.open('Covers 1200/' + img)\n",
    "    img_1 = ImageOps.expand(image_obj.resize((180, 240)).convert('RGB'), border=2, fill='black')\n",
    "    img_1.save('Covers 180/' + image_list[ind].replace('_Cover', '_180_Cover'))"
   ]
  },
  {
   "cell_type": "code",
   "execution_count": null,
   "metadata": {},
   "outputs": [],
   "source": [
    "image_list = os.listdir('Covers 180/')\n",
    "color_mean_list = []\n",
    "for ind, img in enumerate(image_list):\n",
    "    image_obj = Image.open('Covers 180/' + img)\n",
    "    image_obj = np.asarray(image_obj)\n",
    "    color_mean_list.append(np.apply_over_axes(np.mean, image_obj, [0, 1])[0][0])\n",
    "\n",
    "\n",
    "for ind, arr in enumerate(color_mean_list):\n",
    "    hsv = colorsys.rgb_to_hsv(arr[0], arr[1], arr[2])\n",
    "    hsl = colorsys.rgb_to_hls(arr[0], arr[1], arr[2])\n",
    "    print(ind, arr[0], arr[1], arr[2], hsv[0], hsv[1], hsv[2], hsl[0], hsl[1], hsl[2])"
   ]
  },
  {
   "cell_type": "code",
   "execution_count": 60,
   "metadata": {},
   "outputs": [],
   "source": [
    "import pandas as pd"
   ]
  },
  {
   "cell_type": "code",
   "execution_count": 71,
   "metadata": {},
   "outputs": [],
   "source": [
    "rgb_avg = pd.read_csv('games_hue_sat.csv', index_col=False).values"
   ]
  },
  {
   "cell_type": "code",
   "execution_count": 72,
   "metadata": {},
   "outputs": [],
   "source": [
    "image_list = os.listdir('Covers 180/')\n",
    "color_mean_list = []\n",
    "for line_ind, line in enumerate(rgb_avg):\n",
    "    image_obj = Image.open('Covers 180/' + image_list[line[0]])\n",
    "    image_obj.save('Covers Test/' +  str(line_ind) + '.jpg')"
   ]
  }
 ],
 "metadata": {
  "kernelspec": {
   "display_name": "openenv",
   "language": "python",
   "name": "python3"
  },
  "language_info": {
   "codemirror_mode": {
    "name": "ipython",
    "version": 3
   },
   "file_extension": ".py",
   "mimetype": "text/x-python",
   "name": "python",
   "nbconvert_exporter": "python",
   "pygments_lexer": "ipython3",
   "version": "3.11.9"
  }
 },
 "nbformat": 4,
 "nbformat_minor": 2
}
