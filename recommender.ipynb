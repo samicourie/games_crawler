{
 "cells": [
  {
   "cell_type": "code",
   "execution_count": 1,
   "metadata": {},
   "outputs": [],
   "source": [
    "import json\n",
    "import pandas as pd\n",
    "import tqdm"
   ]
  },
  {
   "cell_type": "code",
   "execution_count": 26,
   "metadata": {},
   "outputs": [],
   "source": [
    "with open('ultimate_games_text.json', 'r') as file:\n",
    "    ultimate_games_text = json.load(file)\n",
    "\n",
    "corpus = []\n",
    "titles = []"
   ]
  },
  {
   "cell_type": "code",
   "execution_count": 27,
   "metadata": {},
   "outputs": [],
   "source": [
    "for game_title, game in ultimate_games_text.items():\n",
    "    titles.append(game_title)\n",
    "    corpus.append(game_title + ':\\n\\n' + '\\n\\n'.join(list(game.values())))"
   ]
  },
  {
   "cell_type": "code",
   "execution_count": 29,
   "metadata": {},
   "outputs": [
    {
     "name": "stdout",
     "output_type": "stream",
     "text": [
      "007 - The World Is Not Enough:\n",
      "\n",
      "Metacritic Description: Experience the intensity of being the world's top secret agent. Equipped with a full arsenal of of Q-Lab gadgets and weaponry, you must be suave, resourceful, and lethal as you carry out action-packed missions based on the blockbuster movie. Are you cool under pressure? Deadly when necessary? Of course you are -- you're Bond...James Bond.\n",
      "\n",
      "\n",
      "GiantBomb:\n",
      "Intro: The World Is Not Enough, a video game adaption of the actual hollywood movie, follows James Bond on his secret mission both to unravel the mysterious intentions of a femmè fatale called Elektra King and to uncover the plans of his vicious counterpart Renard.\n",
      "Description: Overview Coming off the failure that was  Tomorrow Never Dies , publisher  EA  wanted to return to  James Bond's  roots as a  first-person  shooter. The game, based on the film of the same name, had a different developer for each of the three platforms that it was released on. The  Nintendo 64  version was developed by  Eurocom , the  PlayStation  version was developed by  Black Ops Entertainment , the developer of the previous James Bond game Tomorrow Never Dies, and by  2n Productions  for the  Game Boy Color . Versions of the game for the PC and  PlayStation 2  were planned for release but were later cancelled midway through the development cycle. The  Nintendo 64  version of the game featured a multiplayer mode that was absent from the  PlayStation  version. The Nintendo 64 version also supported both Rumble Pak and Expansion Pack accessories. The game features 14 single player missions that follow the story of the film very closely. Just like  GoldenEye 007 , the game featured three difficulty levels: Agent, Secret Agent, and 00 Agent. Completing missions on a certain difficulty would allow players to unlock additional multiplayer maps such as a dark Eastern European forest, a version of MI6's Scotland Headquarters and ski resort complete with working gondolas, and an airplane. The PlayStation version is known for lacking three levels, a level of difficulty and multiplayer modes. The campaign contained multiple gadgets and numerous weapons the player could use. Each weapon had a second setting on it, such as the SA90, which could switch between single and burst modes of fire. The World is Not Enough contained a robust  split-screen  mode found in most James Bond games. Players could customize their experience in various ways. They could choose what weapons they wanted to be available (  sniper rifles , explosive weapons,  close combat  etc.), choose how they wanted their avatar to look while playing in the game, have either vertical or horizontal split-screen, and select score limit and match time. Players could fight in teams, Free-for-All, Last Man Standing, uplink,  Capture the Flag  and  King of the Hill  modes. During the game, players could pick up various gadgets and aids such as  body armor  and  night vision goggles . Weapons Submachine Guns P90 Ingalls Type 90 Meyer TMP Explosive Weapons GL40 Grenade Launcher Sentinel Heat-Seeking Missile Launcher - Can fire in single or fully automatic modes. Frag Grenade Sticky Grenade Handguns Raptor Magnum - Includes optional laser sight. James Bond's classic Wolfer P2K Assault Rifles AK-47 M4 Mustang - A variant of the M16. Meyer Bullpup Sniper Rifles SA90\n",
      "Genres: First-Person Shooter\n",
      "Themes: Espionage\n",
      "\n",
      "\n",
      "Wikipedia:\n",
      "Summary: The World Is Not Enough is a first-person shooter video game developed by Black Ops Entertainment and based on the 1999 James Bond film of the same name. It was published by Electronic Arts (EA) and released for the PlayStation on November 7, 2000, shortly after the release of its Nintendo 64 counterpart. The World Is Not Enough is the successor to Black Ops Entertainment's 1999 title Tomorrow Never Dies and uses an improved version of its engine. The game received mixed reviews from critics, who criticised its short length and lack of multiplayer mode.\n",
      "Gameplay: The World Is Not Enough is a first-person shooter based on MGM's 1999 James Bond film of the same name, where the player assumes the role of James Bond through 11 different missions. In each mission, the player must complete many objectives while defeating enemies controlled by the game's artificial intelligence. Objectives range from rescuing hostages to destroying vehicles and collecting items. Some objectives require the player to use numerous high-tech gadgets. For example, the Credit Card Lockpick can be used to open locked doors, while the Micro Camera is useful for photographing evidence. There is one mission that does not involve combat, and requires the player to play blackjack in a casino and win consistently.\n",
      "As a first-person shooter, combat takes place in real-time and from a first-person perspective. The player can use several weapons, including submachine guns, shotguns, a tranquilizer gun, a sniper rifle, and a rocket launcher. Weapons must be reloaded after a certain number of shots. The player has a certain amount of health which decreases when attacked by enemies. Heavy and Light Armor power-ups that absorb extra damage can be collected throughout the game. These power-ups, however, cannot protect the player from extreme falls or radiation. The game features several lengthy cuts from the film as cutscenes.\n",
      "Genre: First-person shooter; stealth\n",
      "\n",
      "\n",
      "IGDB:\n",
      "Summary: The PlayStation version of the game has a few notable differences to its Nintendo 64 counterpart it runs off a version of the Medal of Honor engine and has 11 missions in contrast to the N64s 14 some of which are not shared between the two The missions that are similar usually those taken from the film further tend to play out differently and utilize completely different gadgets and weaponry  It also does not feature additional objectives at higher difficulty modes and only cheats are unlocked by beating specific missions at a specific difficulty However it does feature CDquality music and voices as well as video clips from the movie for cutscenes It is singleplayer only and features no multiplayer component\n",
      "\n"
     ]
    }
   ],
   "source": [
    "print(corpus[0])"
   ]
  },
  {
   "cell_type": "code",
   "execution_count": 5,
   "metadata": {},
   "outputs": [],
   "source": [
    "from sentence_transformers import SentenceTransformer, util\n",
    "import torch"
   ]
  },
  {
   "cell_type": "code",
   "execution_count": 30,
   "metadata": {},
   "outputs": [
    {
     "name": "stderr",
     "output_type": "stream",
     "text": [
      "c:\\Users\\SCO25143\\Downloads\\PyProject\\openenv\\Lib\\site-packages\\huggingface_hub\\file_download.py:139: UserWarning: `huggingface_hub` cache-system uses symlinks by default to efficiently store duplicated files but your machine does not support them in C:\\Users\\SCO25143\\.cache\\huggingface\\hub\\models--sentence-transformers--all-MiniLM-L6-v2. Caching files will still work but in a degraded version that might require more space on your disk. This warning can be disabled by setting the `HF_HUB_DISABLE_SYMLINKS_WARNING` environment variable. For more details, see https://huggingface.co/docs/huggingface_hub/how-to-cache#limitations.\n",
      "To support symlinks on Windows, you either need to activate Developer Mode or to run Python as an administrator. In order to activate developer mode, see this article: https://docs.microsoft.com/en-us/windows/apps/get-started/enable-your-device-for-development\n",
      "  warnings.warn(message)\n"
     ]
    }
   ],
   "source": [
    "# Step 1: Load the pre-trained model (this can be any model that works well for semantic search)\n",
    "model = SentenceTransformer('all-MiniLM-L6-v2')"
   ]
  },
  {
   "cell_type": "code",
   "execution_count": null,
   "metadata": {},
   "outputs": [],
   "source": [
    "# Step 3: Encode the documents\n",
    "document_embeddings = model.encode(corpus, convert_to_tensor=True)\n",
    "\n",
    "# Step 5: Use util.pytorch_cos_sim to get pairwise cosine similarities\n",
    "cosine_scores = util.pytorch_cos_sim(document_embeddings, document_embeddings)"
   ]
  },
  {
   "cell_type": "code",
   "execution_count": null,
   "metadata": {},
   "outputs": [],
   "source": [
    "# Step 4: Find k most similar documents to each document using cosine similarity\n",
    "num_similar_documents = 20\n",
    "# Step 6: For each document, get the 20 most similar documents (excluding the document itself)\n",
    "for idx, scores in enumerate(cosine_scores):\n",
    "    # Sort the cosine scores in descending order and exclude the first one (which is the document itself)\n",
    "    top_results = torch.topk(scores, num_similar_documents + 1)  # +1 to include itself, we'll slice later\n",
    "    most_similar_idx = top_results.indices[1:]  # Exclude the first one (itself)\n",
    "    \n",
    "    print(titles[idx], '#', '; '.join([titles[v] for v in most_similar_idx]))\n",
    "    ultimate_games_text[titles[idx]]['Similar Games'] = [titles[v] for v in most_similar_idx]"
   ]
  },
  {
   "cell_type": "code",
   "execution_count": 49,
   "metadata": {},
   "outputs": [
    {
     "data": {
      "text/plain": [
       "{'my-steam': \"My Steam:\\nSummary: About This Game Hollow Knight Expands with Free ContentGodmaster - Take your place amongst the Gods. New Characters and Quest. New Boss Fights. Available Now!Lifeblood - A Kingdom Upgraded! New Boss. Upgraded Bosses. Tweaks and Refinements across the whole game.The Grimm Troupe - Light the Nightmare Lantern. Summon the Troupe. New Major Quest. New Boss Fights. New Charms. New Enemies. New Friends.Hidden Dreams - Mighty new foes emerge! New Boss fights. New Upgrades. New Music.Brave the Depths of a Forgotten KingdomBeneath the fading town of Dirtmouth sleeps an ancient, ruined kingdom. Many are drawn below the surface, searching for riches, or glory, or answers to old secrets.Hollow Knight is a classically styled 2D action adventure across a vast interconnected world. Explore twisting caverns, ancient cities and deadly wastes; battle tainted creatures and befriend bizarre bugs; and solve ancient mysteries at the kingdom's heart.Game FeaturesClassic side-scrolling action, with all the modern trimmings.Tightly tuned 2D controls. Dodge, dash and slash your way through even the most deadly adversaries.Explore a vast interconnected world of forgotten highways, overgrown wilds and ruined cities.Forge your own path! The world of Hallownest is expansive and open. Choose which paths you take, which enemies you face and find your own way forward.Evolve with powerful new skills and abilities! Gain spells, strength and speed. Leap to new heights on ethereal wings. Dash forward in a blazing flash. Blast foes with fiery Soul!Equip Charms! Ancient relics that offer bizarre new powers and abilities. Choose your favourites and make your journey unique!An enormous cast of cute and creepy characters all brought to life with traditional 2D frame-by-frame animation.Over 130 enemies! 30 epic bosses! Face ferocious beasts and vanquish ancient knights on your quest through the kingdom. Track down every last twisted foe and add them to your Hunter's Journal!Leap into minds with the Dream Nail. Uncover a whole other side to the characters you meet and the enemies you face.Beautiful painted landscapes, with extravagant parallax, give a unique sense of depth to a side-on world.Chart your journey with extensive mapping tools. Buy compasses, quills, maps and pins to enhance your understanding of Hollow Knight’s many twisting landscapes.A haunting, intimate score accompanies the player on their journey, composed by Christopher Larkin. The score echoes the majesty and sadness of a civilisation brought to ruin.Complete Hollow Knight to unlock Steel Soul Mode, the ultimate challenge!An Evocative Hand-Crafted WorldThe world of Hollow Knight is brought to life in vivid, moody detail, its caverns alive with bizarre and terrifying creatures, each animated by hand in a traditional 2D style.Every new area you’ll discover is beautifully unique and strange, teeming with new creatures and characters. Take in the sights and uncover new wonders hidden off of the beaten path.If you like classic gameplay, cute but creepy characters, epic adventure and beautiful, gothic worlds, then Hollow Knight awaits!\\nDescription: Forge your own path in Hollow Knight! An epic action adventure through a vast ruined kingdom of insects and heroes. Explore twisting caverns, battle tainted creatures and befriend bizarre bugs, all in a classic, hand-drawn 2D style.\\n\",\n",
       " 'metacritics': 'Metacritic Description: Hollow Knight is a 2D action-adventure game with an emphasis on traditional 2D animation and skillful gameplay. Journey to Hallownest, a vast and ancient underground kingdom inhabited by a bizarre collection of insects and monsters. Players will forge their own path as they explore ruined cities, forests of fungus, temples of bone and other fantastic lands, all on their way to uncovering an ancient mystery.\\n',\n",
       " 'giantbomb': 'GiantBomb:\\nIntro: A 2D exploration action adventure game, developed by Team Cherry.\\nDescription: Overview Originally announced as \"[a] beautiful and mysterious 2D adventure through a surreal world of insects and heroes.\"  Hollow Knight  was successfully  Kickstarted  in June 2015 by Australian developer,  Team Cherry . It was released on February 24, 2017 for PC, on June 12, 2018 for  Nintendo Switch , and on September 25, 2018 for  Xbox One  and  PS4 . The game was originally planned to have a  Wii U  port but this was changed to the  Switch . As the Knight, the player must move through the Hallownest - an ancient, subterranean kingdom filled with danger. While it fell to ruin long ago, it sees regular visitors hoping to earn a fortune or make important discoveries by braving its depths. The Knight must discover what fate has befallen Hallownest and his connection to it. His journey will see him encounter and defeat powerful creatures, find new equipment and relics, unlock shortcuts to return to previous areas more easily, and eventually discover what lies at the bottom.   Hallownest Created by the Pale King, the Hallownest is a fallen kingdom that is underneath Dirtmouth. As the player explores the remnants, they will begin to uncover the greater mystery left behind. Here are the areas contained within the Hallownest: Ancient Basin City of Tears Crystal Peak Deepnest Fog Canyon Forgotten Crossroads Fungal Wastes Greenpath Howling Cliffs Kingdom\\'s Edge Queen\\'s Gardens Resting Grounds Royal Waterway The Hive   Characters The inhabitants of Hallownest vary from Merchants, Nailmasters, Wanderers and several Miscellaneous NPCs. They will aid the Knight in their adventure and offer a variety of services that works as the games various RPG systems. Confessor Jiji Allows the player to trade rancid eggs for their current shade, as to not have to trek through the entirety of Hallownest to reclaim their lost Geo. Confessor Jiji is locked behind a door in the far east of Dirtmouth. Cornifer & Iselda This married couple is how the player is able to map and track their progress through the Hallownest. Iselda is found in Dirtmouth and will sell the player various items that makes this process easier. Cornifer is found as the player explores the various areas in Hallownest, and will offer to sell them a map when he is found after following the hum of his voice. If Cornifer is missed, the player will be able to recover the aforementioned map from Iselda. Hornet Hornet is an NPC that plays an important role in the story of the Knight and who guides the player towards the necessary abilities to better traverse Hollownest. The Last Stag Serving as a means of quick travel, the Last Stag will appear whenever the player rings a bell in a Stag Station, although sometimes only available after paying a toll. As the Hollow Knight travels through Hallownest, each interaction will give the player more insight as to what happened to the kingdom. Leg Eater A merchant found in Forgotten Crossroads that will sell the player, a few charms that have the possibility of breaking when dying. He will then offer to repair them after they are damaged. Little Fool An NPC who will unlock the various levels of difficulty within the Colosseum of Fools. Millibelle Offers the player the ability to store up to 4500 Geo at her stand in Fog Canyon. She will then move to the Pleasure House, where the player will have the option of reclaiming their stolen Geo by force from Millibelle. Nailmasters: Mato, Oro, Sheo These three brothers will teach the player three different Nail Arts, and are found in various areas in Hallownest. Nailsmith He can be found to the far west in the City of Tears, and upgrades the player\\'s nail. He asks only for Geo and Pale Ore, allowing him to upgrade the old nail. Relic Seeker Lemm As the only merchant in game who will buy relics from the player, Relic Seeker Lemm can be found in the City of Tears. He will give the player some background regarding Hallownest and its treasures, whenever he is sold a relic. Salubra A merchant found in the Forgotten Crossroads and specializes in Charms and Notches. Once the player has found all Charms in the game, Salubra will appear above them whenever they access a bench. Sly A merchant that can be saved in the Forgotten Crossroads, who will then open up a shop in Dirtmouth. Sly specializes in a variety of items from Charms to player upgrades. Tuk A merchant that can be found in the Forgotten Waterways and sells the player rancid eggs in exchange for Geo. The Wanderers: Cloth, Quirrel, Zote the Mighty, Tiso These characters can be found throughout the Hallownest and often give some insight into the Kingdom. Each with their own story line, the player can interact with them on few occasions and in specific instances, they will join in during boss fights.   DLC A total of 4 additional content packs have been released for free after the game\\'s release. Image Name & Release Date Description   Hidden Dreams 03 Aug 2017 New foes. New Boss fights. New Upgrades. New Music.   The Grimm Troupe 26 Oct 2017 New Major Quest. New Boss Fights. New Charms. New Enemies. New Friends.   Lifeblood 20 Apr 2018 New Boss. Upgraded Bosses. Tweaks and Refinements across the whole game.   Godmaster 23 Aug 2018 New Characters and Quest. New Boss Fights. New Music.\\nGenres: Platformer, Action-Adventure\\nThemes: Fantasy\\n',\n",
       " 'wikipedia': 'Wikipedia:\\nSummary: Hollow Knight is a 2017 Metroidvania video game developed and published by independent developer Team Cherry. The player controls the Knight, an insectoid warrior exploring Hallownest, a fallen kingdom plagued by a supernatural disease. The game is set in diverse subterranean locations, featuring friendly and hostile insectoid characters and numerous bosses. Players have the opportunity to unlock abilities as they explore, along with pieces of lore and flavour text that are spread throughout the kingdom.\\nThe concept behind Hollow Knight was conceived in 2013 in the Ludum Dare game jam. Team Cherry wanted to create a game inspired by older platformers that replicated the explorational aspects of its influences. Inspirations for the game include Faxanadu, Metroid, Zelda II: The Adventure of Link, and Mega Man X. Development was partially funded through a Kickstarter crowdfunding campaign that raised over A$57,000 by the end of 2014. It was released for Windows, Linux, and macOS, in early 2017 and for the Nintendo Switch, PlayStation 4, and Xbox One in 2018. After release, Team Cherry supported the game with four free expansions as downloadable content.\\nHollow Knight was well received by critics, with particular praise for its music, art style, worldbuilding, atmosphere, combat and level of difficulty. By February 2019, the game had sold 2.8 million copies. A sequel, Hollow Knight: Silksong, is in development.\\nGameplay: Hollow Knight is a 2D side-scrolling Metroidvania. The player controls a silent insectoid protagonist called \"the Knight\" who explores an underground fallen kingdom called Hallownest. The Knight can strike enemies with a sword-like weapon called a Nail and can learn spells that allow for long-range attacks.\\nDefeated enemies drop the currency called Geo. The Knight starts with a limited number of hit points, which are represented by masks. Mask Shards can be collected throughout the game to increase the player\\'s maximum number of masks. By striking enemies, the Knight gains Soul, which is stored in the Soul Vessel. If all masks are lost, the Knight dies and a Shade enemy appears where they died. The player loses all Geo and can hold a reduced amount of Soul. Players need to defeat the Shade enemy to recover lost Geo and carry the normal amount of Soul. The game continues from the last visited bench the character sat on, which are scattered throughout the game world and act as save points and places where the player can change their charms. Initially the player can only use Soul to \"Focus\" and regenerate masks, but as the game progresses, players unlock and collect several offensive spells which consume Soul. Additional Soul Vessels, used to hold more Soul, can be acquired throughout the game.\\nMany areas feature more challenging enemies and bosses which the player may need to defeat in order to progress further. Defeating some bosses grants the player access to new abilities. Later in the game, players acquire the Dream Nail, a special item that can access the minds of Hallownest\\'s creatures. Hitting most enemies with the Dream Nail deals no damage but gives the Knight extra Soul compared to hitting them with the regular Nail. It also enables the player to face more challenging versions of a few bosses and to break the seal to the final boss. If the player defeats the final boss, they are given access to a mode called \"Steel Soul\". In this mode, dying is permanent, i.e. if the Knight loses all of their masks, the save slot will be reset.\\nDuring the game, the player encounters bug-themed non-player characters (NPCs) with whom they can interact. These characters provide information about the plot and lore, offer aid, and sell items or services. The player can upgrade the Knight\\'s Nail to deal more damage or find Soul Vessels to carry more Soul. Players acquire items that provide movement abilities including an additional mid-air jump (Monarch Wings), adhering to and jumping off walls (Mantis Claw), a quick dash (Mothwing Cloak), and a speedy super dash (Crystal Heart). The player can learn other combat abilities, known as Nail Arts, and spells. To further customise the Knight, players can equip various charms, which can be found or purchased from NPCs. Some of their effects include improved combat abilities or skills, granting more masks with or without the ability to regenerate them with Soul, greater mobility, easier collecting of Geo or Soul, the ability to gain more Geo per enemy, and other transformations to the Knight. Equipping a charm takes up a certain number of limited slots, called notches.\\nHallownest consists of several large, inter-connected areas with unique themes. With its nonlinear gameplay Metroidvania design, Hollow Knight does not bind the player to one path nor require them to explore the whole world; there are places that can be missed when finishing the game, though there are obstacles that limit the player\\'s access to various areas. The player may need to acquire a specific movement ability, skill, or item to progress further. To fast travel through the world, the player can use Stag Stations, terminals connected to a network of tunnels that are traversed via giant stag beetles; players can only travel to previously visited and unlocked stations. Other fast travel methods, such as trams, lifts, and the \"Dreamgate\", are encountered later.\\nAs the player enters a new area, they do not have access to the map of their surroundings. They must find Cornifer, the cartographer, to buy a rough map. As the player explores an area, the map becomes more accurate and complete, although it is updated only when sitting on a bench. The player will need to buy specific items to complete maps, to see points of interest, and to place markers. The Knight\\'s position on the map can only be seen if the player has the Wayward Compass charm equipped.\\nPlot: The Grimm Troupe expansion: In the second expansion to Hollow Knight, a \"Nightmare Lantern\" was added to the Howling Cliffs. After using the Dream Nail on a masked bug, the lantern summons a mysterious group of circus performers to Dirtmouth, who identify themselves as the Grimm Troupe. Their leader, Troupe Master Grimm, gives the Knight a quest to collect magic flames throughout Hallownest in order to take part in a \"twisted ritual\". He gives the player the Grimmchild charm, which absorbs the flames into itself, progressing the ritual and allowing the Grimmchild to attack the Knight\\'s enemies. Eventually, the Knight must choose to either complete the ritual by fighting Grimm and his powerful Nightmare King form, or prevent the ritual and banish the Grimm Troupe with the help of Brumm, a traitorous troupe member.\\nGodmaster expansion: More content was added to Hollow Knight with the fourth and final expansion, Godmaster, in which the Knight can battle harder versions of all of the bosses through a series of challenges. The main hub of the expansion is known as Godhome. Within Godhome are five \"pantheons\", each being a \"boss rush\", containing a set of bosses that must all be defeated consecutively without dying. The final pantheon, the Pantheon of Hallownest, contains every boss in the game or alternate forms of original bosses. If the Knight completes the Pantheon of Hallownest, the Absolute Radiance, a more powerful version of the Radiance, appears, acting as the new final boss. Upon defeating it, two unique endings can be achieved, each involving the destruction of Godhome by a powerful Void entity. A new game mode called \"Godseeker\" was added too.\\n\\nGenre: Metroidvania\\n',\n",
       " 'igdb': 'IGDB:\\nSummary: A 2D metroidvania with an emphasis on close combat and exploration in which the player enters the onceprosperous nowbleak insect kingdom of Hallownest travels through its various districts meets friendly inhabitants fights hostile ones and uncovers the kingdoms history while improving their combat abilities and movement arsenal by fighting bosses and accessing outoftheway areas\\n',\n",
       " 'steam': \"Steam:\\nDetailed Description: Hollow Knight Expands with Free Content Godmaster - Take your place amongst the Gods. New Characters and Quest. New Boss Fights. Available Now! Lifeblood - A Kingdom Upgraded! New Boss. Upgraded Bosses. Tweaks and Refinements across the whole game. The Grimm Troupe - Light the Nightmare Lantern. Summon the Troupe. New Major Quest. New Boss Fights. New Charms. New Enemies. New Friends. Hidden Dreams - Mighty new foes emerge! New Boss fights. New Upgrades. New Music. Brave the Depths of a Forgotten Kingdom Beneath the fading town of Dirtmouth sleeps an ancient, ruined kingdom. Many are drawn below the surface, searching for riches, or glory, or answers to old secrets. Hollow Knight is a classically styled 2D action adventure across a vast interconnected world. Explore twisting caverns, ancient cities and deadly wastes; battle tainted creatures and befriend bizarre bugs; and solve ancient mysteries at the kingdom's heart. Game Features Classic side-scrolling action, with all the modern trimmings. Tightly tuned 2D controls. Dodge, dash and slash your way through even the most deadly adversaries. Explore a vast interconnected world of forgotten highways, overgrown wilds and ruined cities. Forge your own path! The world of Hallownest is expansive and open. Choose which paths you take, which enemies you face and find your own way forward. Evolve with powerful new skills and abilities! Gain spells, strength and speed. Leap to new heights on ethereal wings. Dash forward in a blazing flash. Blast foes with fiery Soul! Equip Charms! Ancient relics that offer bizarre new powers and abilities. Choose your favourites and make your journey unique! An enormous cast of cute and creepy characters all brought to life with traditional 2D frame-by-frame animation. Over 130 enemies! 30 epic bosses! Face ferocious beasts and vanquish ancient knights on your quest through the kingdom. Track down every last twisted foe and add them to your Hunter's Journal! Leap into minds with the Dream Nail. Uncover a whole other side to the characters you meet and the enemies you face. Beautiful painted landscapes, with extravagant parallax, give a unique sense of depth to a side-on world. Chart your journey with extensive mapping tools. Buy compasses, quills, maps and pins to enhance your understanding of Hollow Knight’s many twisting landscapes. A haunting, intimate score accompanies the player on their journey, composed by Christopher Larkin. The score echoes the majesty and sadness of a civilisation brought to ruin. Complete Hollow Knight to unlock Steel Soul Mode, the ultimate challenge! An Evocative Hand-Crafted World The world of Hollow Knight is brought to life in vivid, moody detail, its caverns alive with bizarre and terrifying creatures, each animated by hand in a traditional 2D style. Every new area you’ll discover is beautifully unique and strange, teeming with new creatures and characters. Take in the sights and uncover new wonders hidden off of the beaten path. If you like classic gameplay, cute but creepy characters, epic adventure and beautiful, gothic worlds, then Hollow Knight awaits! \\nShort Description: Forge your own path in Hollow Knight! An epic action adventure through a vast ruined kingdom of insects and heroes. Explore twisting caverns, battle tainted creatures and befriend bizarre bugs, all in a classic, hand-drawn 2D style.\\nTags: Metroidvania; Souls-like; Platformer; Great Soundtrack; Difficult; 2D; Indie; Atmospheric; Exploration; Singleplayer; Adventure; Story Rich; Hand-drawn; Action; Dark Fantasy; Multiple Endings; Open World; Cute; Controller; Side Scroller\",\n",
       " 'Similar Games': ['Shovel Knight',\n",
       "  'Shovel Knight Dig',\n",
       "  'Kingdom Two Crowns',\n",
       "  'The Vale - Shadow of the Crown',\n",
       "  'INMOST',\n",
       "  'Knights in the Nightmare',\n",
       "  'Souldiers',\n",
       "  'Demon Turf',\n",
       "  'Bloodroots',\n",
       "  'Castlevania Symphony of the Night',\n",
       "  'Bosorka',\n",
       "  'Castlevania - Portrait of Ruin',\n",
       "  'Final Fantasy III',\n",
       "  'Mortal Shell',\n",
       "  'TUNIC',\n",
       "  'Shattered - Tale of the Forgotten King',\n",
       "  'Blue Fire',\n",
       "  'Vampire - The Masquerade Bloodlines',\n",
       "  'Minecraft Dungeons',\n",
       "  'Undead Knights']}"
      ]
     },
     "execution_count": 49,
     "metadata": {},
     "output_type": "execute_result"
    }
   ],
   "source": [
    "ultimate_games_text['Hollow Knight']"
   ]
  },
  {
   "cell_type": "code",
   "execution_count": 50,
   "metadata": {},
   "outputs": [],
   "source": [
    "with open('ultimate_games_text.json', 'w') as file:\n",
    "    json.dump(ultimate_games_text, file)"
   ]
  }
 ],
 "metadata": {
  "kernelspec": {
   "display_name": "openenv",
   "language": "python",
   "name": "python3"
  },
  "language_info": {
   "codemirror_mode": {
    "name": "ipython",
    "version": 3
   },
   "file_extension": ".py",
   "mimetype": "text/x-python",
   "name": "python",
   "nbconvert_exporter": "python",
   "pygments_lexer": "ipython3",
   "version": "3.11.9"
  }
 },
 "nbformat": 4,
 "nbformat_minor": 2
}
