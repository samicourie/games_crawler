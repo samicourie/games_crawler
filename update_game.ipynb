{
 "cells": [
  {
   "cell_type": "code",
   "execution_count": 1,
   "metadata": {},
   "outputs": [],
   "source": [
    "import json\n",
    "\n",
    "with open('ultimate_games.json', 'r', encoding='utf-8') as file:\n",
    "    ultimate_games = json.load(file)\n",
    "with open('games_text.json', 'r', encoding='utf-8') as file:\n",
    "    games_text = json.load(file)"
   ]
  },
  {
   "cell_type": "code",
   "execution_count": 2,
   "metadata": {},
   "outputs": [],
   "source": [
    "with open('htlb_info.json', 'r', encoding='utf-8') as file:\n",
    "    htlb_info = json.load(file)\n",
    "with open('htlb_text.json', 'r', encoding='utf-8') as file:\n",
    "    htlb_text = json.load(file)"
   ]
  },
  {
   "cell_type": "code",
   "execution_count": 3,
   "metadata": {},
   "outputs": [],
   "source": [
    "for game_title, game in htlb_info.items():\n",
    "    ult_game = ultimate_games[game_title]\n",
    "    # ult_game_text = games_text[game_title]\n",
    "    for key, value in game.items():\n",
    "        if key != 'title':\n",
    "            ult_game[key] = value\n",
    "    # games_text[game_title].update(wiki_plot_text[game_title])"
   ]
  },
  {
   "cell_type": "code",
   "execution_count": null,
   "metadata": {},
   "outputs": [],
   "source": [
    "with open('ultimate_games.json', 'w', encoding='utf-8') as file:\n",
    "        json.dump(ultimate_games, file)\n",
    "with open('games_text.json', 'w', encoding='utf-8') as file:\n",
    "        json.dump(games_text, file)"
   ]
  }
 ],
 "metadata": {
  "kernelspec": {
   "display_name": "openenv",
   "language": "python",
   "name": "python3"
  },
  "language_info": {
   "codemirror_mode": {
    "name": "ipython",
    "version": 3
   },
   "file_extension": ".py",
   "mimetype": "text/x-python",
   "name": "python",
   "nbconvert_exporter": "python",
   "pygments_lexer": "ipython3",
   "version": "3.11.9"
  }
 },
 "nbformat": 4,
 "nbformat_minor": 2
}
