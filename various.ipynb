{
 "cells": [
  {
   "cell_type": "code",
   "execution_count": 5,
   "metadata": {},
   "outputs": [],
   "source": [
    "import json\n",
    "import requests"
   ]
  },
  {
   "cell_type": "code",
   "execution_count": 2,
   "metadata": {},
   "outputs": [],
   "source": [
    "with open('ultimate_games.json', 'r', encoding='utf-8') as file:\n",
    "    ultimate_games = json.load(file)\n",
    "with open('games_text.json', 'r', encoding='utf-8') as file:\n",
    "    games_text = json.load(file)"
   ]
  },
  {
   "cell_type": "code",
   "execution_count": 27,
   "metadata": {},
   "outputs": [],
   "source": [
    "with open('igdb_games_info.json', 'r', encoding='utf-8') as file:\n",
    "    igdb_new_games = json.load(file)\n",
    "with open('igdb_games_text.json', 'r', encoding='utf-8') as file:\n",
    "    igdb_new_texts = json.load(file)\n",
    "with open('game_title_mapper.txt', 'r', encoding='utf-8') as file:\n",
    "    new_games = file.readlines()"
   ]
  },
  {
   "cell_type": "code",
   "execution_count": 7,
   "metadata": {},
   "outputs": [],
   "source": [
    "count = 1\n",
    "for game_title, game in ultimate_games.items():\n",
    "    if 'igdb-cover' in game:\n",
    "        try:\n",
    "            images_path = 'Covers/' + game['title'] + '_Cover.jpg'\n",
    "            response = requests.get(game['igdb-cover'], images_path + 'Cover.jpg')\n",
    "            with open(images_path.replace(':', ' -'), 'wb') as img_file:\n",
    "                img_file.write(response.content)\n",
    "                print(count, game_title)\n",
    "                count += 1\n",
    "        except Exception as _:\n",
    "            print(count, game_title, 'Error')\n",
    "        "
   ]
  },
  {
   "cell_type": "code",
   "execution_count": 29,
   "metadata": {},
   "outputs": [],
   "source": [
    "for line in new_games:\n",
    "    line_list = line.split('#')\n",
    "    original_game = line_list[0]\n",
    "    new_game = line_list[1].replace('\\n', '')\n",
    "    del igdb_new_games[new_game]['title']\n",
    "    if igdb_new_games[new_game]['igdb-success']:\n",
    "        ultimate_games[original_game].update(igdb_new_games[new_game])\n",
    "        games_text[original_game].update(igdb_new_texts[new_game])"
   ]
  },
  {
   "cell_type": "code",
   "execution_count": 31,
   "metadata": {},
   "outputs": [],
   "source": [
    "with open('ultimate_games.json', 'w', encoding='utf-8') as file:\n",
    "        json.dump(ultimate_games, file)\n",
    "with open('games_text.json', 'w', encoding='utf-8') as file:\n",
    "        json.dump(games_text, file)"
   ]
  }
 ],
 "metadata": {
  "kernelspec": {
   "display_name": "openenv",
   "language": "python",
   "name": "python3"
  },
  "language_info": {
   "codemirror_mode": {
    "name": "ipython",
    "version": 3
   },
   "file_extension": ".py",
   "mimetype": "text/x-python",
   "name": "python",
   "nbconvert_exporter": "python",
   "pygments_lexer": "ipython3",
   "version": "3.11.9"
  }
 },
 "nbformat": 4,
 "nbformat_minor": 2
}
